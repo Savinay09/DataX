{
 "cells": [
  {
   "cell_type": "code",
   "execution_count": 1,
   "metadata": {},
   "outputs": [],
   "source": [
    "import csv\n",
    "import numpy as np\n",
    "import pandas as pd\n",
    "import matplotlib.pyplot as plt\n",
    "import json\n",
    "import zipfile\n",
    "\n",
    "%matplotlib inline\n",
    "plt.style.use('fivethirtyeight')\n",
    "import seaborn as sns\n",
    "sns.set()\n",
    "sns.set_context(\"talk\")\n",
    "import re"
   ]
  },
  {
   "cell_type": "markdown",
   "metadata": {},
   "source": [
    "## Data Cleaning"
   ]
  },
  {
   "cell_type": "code",
   "execution_count": 2,
   "metadata": {},
   "outputs": [
    {
     "data": {
      "text/html": [
       "<div>\n",
       "<style scoped>\n",
       "    .dataframe tbody tr th:only-of-type {\n",
       "        vertical-align: middle;\n",
       "    }\n",
       "\n",
       "    .dataframe tbody tr th {\n",
       "        vertical-align: top;\n",
       "    }\n",
       "\n",
       "    .dataframe thead th {\n",
       "        text-align: right;\n",
       "    }\n",
       "</style>\n",
       "<table border=\"1\" class=\"dataframe\">\n",
       "  <thead>\n",
       "    <tr style=\"text-align: right;\">\n",
       "      <th></th>\n",
       "      <th>subject</th>\n",
       "      <th>from</th>\n",
       "      <th>date</th>\n",
       "      <th>to</th>\n",
       "      <th>label</th>\n",
       "      <th>thread</th>\n",
       "    </tr>\n",
       "  </thead>\n",
       "  <tbody>\n",
       "    <tr>\n",
       "      <th>0</th>\n",
       "      <td>subject</td>\n",
       "      <td>Sender</td>\n",
       "      <td>Date</td>\n",
       "      <td>To</td>\n",
       "      <td>Category</td>\n",
       "      <td>Thread</td>\n",
       "    </tr>\n",
       "    <tr>\n",
       "      <th>1</th>\n",
       "      <td>Event for Freshmen: Discover career opportunit...</td>\n",
       "      <td>\"RippleMatch\" &lt;katebeckman@ripplematch.com&gt;</td>\n",
       "      <td>Mon, 22 Feb 2021 20:11:34 +0000 (UTC)</td>\n",
       "      <td>tanishkumar@berkeley.edu</td>\n",
       "      <td>Inbox,Important,Category Promotions,Unread</td>\n",
       "      <td>1692427563481259075</td>\n",
       "    </tr>\n",
       "    <tr>\n",
       "      <th>6</th>\n",
       "      <td>Complete your setup with the Slack desktop app</td>\n",
       "      <td>\"Slack\" &lt;no-reply@email.slackhq.com&gt;</td>\n",
       "      <td>Thu, 21 Jan 2021 11:02:05 -0600</td>\n",
       "      <td>&lt;tanishkumar@berkeley.edu&gt;</td>\n",
       "      <td>Inbox,Important,Category Promotions,Unread</td>\n",
       "      <td>1689516575768603440</td>\n",
       "    </tr>\n",
       "    <tr>\n",
       "      <th>17</th>\n",
       "      <td>General Registration is now open for Winter/Sp...</td>\n",
       "      <td>Mission College &lt;nadler@wvm.edu&gt;</td>\n",
       "      <td>Mon, 7 Dec 2020 13:45:42 -0500 (EST)</td>\n",
       "      <td>tanishkumar@berkeley.edu</td>\n",
       "      <td>Inbox,Category Promotions,Unread</td>\n",
       "      <td>1685446190686767938</td>\n",
       "    </tr>\n",
       "    <tr>\n",
       "      <th>25</th>\n",
       "      <td>A global bank that doubles as a cybersecurity ...</td>\n",
       "      <td>\"Tricia at WayUp\" &lt;info@bb3.wayup.com&gt;</td>\n",
       "      <td>Tue, 08 Dec 2020 02:19:45 +0000</td>\n",
       "      <td>\"Tanish Kumar\" &lt;tanishkumar@berkeley.edu&gt;</td>\n",
       "      <td>Inbox,Opened,Category Promotions</td>\n",
       "      <td>1685474756691839098</td>\n",
       "    </tr>\n",
       "  </tbody>\n",
       "</table>\n",
       "</div>"
      ],
      "text/plain": [
       "                                              subject  \\\n",
       "0                                             subject   \n",
       "1   Event for Freshmen: Discover career opportunit...   \n",
       "6      Complete your setup with the Slack desktop app   \n",
       "17  General Registration is now open for Winter/Sp...   \n",
       "25  A global bank that doubles as a cybersecurity ...   \n",
       "\n",
       "                                           from  \\\n",
       "0                                        Sender   \n",
       "1   \"RippleMatch\" <katebeckman@ripplematch.com>   \n",
       "6          \"Slack\" <no-reply@email.slackhq.com>   \n",
       "17             Mission College <nadler@wvm.edu>   \n",
       "25       \"Tricia at WayUp\" <info@bb3.wayup.com>   \n",
       "\n",
       "                                     date  \\\n",
       "0                                    Date   \n",
       "1   Mon, 22 Feb 2021 20:11:34 +0000 (UTC)   \n",
       "6         Thu, 21 Jan 2021 11:02:05 -0600   \n",
       "17   Mon, 7 Dec 2020 13:45:42 -0500 (EST)   \n",
       "25        Tue, 08 Dec 2020 02:19:45 +0000   \n",
       "\n",
       "                                           to  \\\n",
       "0                                         To    \n",
       "1                    tanishkumar@berkeley.edu   \n",
       "6                  <tanishkumar@berkeley.edu>   \n",
       "17                   tanishkumar@berkeley.edu   \n",
       "25  \"Tanish Kumar\" <tanishkumar@berkeley.edu>   \n",
       "\n",
       "                                         label               thread  \n",
       "0                                     Category               Thread  \n",
       "1   Inbox,Important,Category Promotions,Unread  1692427563481259075  \n",
       "6   Inbox,Important,Category Promotions,Unread  1689516575768603440  \n",
       "17            Inbox,Category Promotions,Unread  1685446190686767938  \n",
       "25            Inbox,Opened,Category Promotions  1685474756691839098  "
      ]
     },
     "execution_count": 2,
     "metadata": {},
     "output_type": "execute_result"
    }
   ],
   "source": [
    "# Remove #ERRORS subject lines\n",
    "df = pd.read_csv('raw_master.csv', names=['subject', 'from', 'date', 'to', 'label', 'thread'])\n",
    "df = df[~df['subject'].astype(str).str.startswith(\"#\")]\n",
    "df = df[~df['from'].astype(str).str.startswith(\"#\")]\n",
    "df.head()"
   ]
  },
  {
   "cell_type": "code",
   "execution_count": 3,
   "metadata": {},
   "outputs": [],
   "source": [
    "# Lower-case and remove punctuation\n",
    "df['subject'] = df['subject'].str.lower()\n",
    "punct_re = r'[^\\w\\s]'\n",
    "df['no_punc'] = df['subject'].str.replace(punct_re, ' ')\n",
    "df = df.drop(0)"
   ]
  },
  {
   "cell_type": "code",
   "execution_count": 4,
   "metadata": {},
   "outputs": [
    {
     "data": {
      "text/html": [
       "<div>\n",
       "<style scoped>\n",
       "    .dataframe tbody tr th:only-of-type {\n",
       "        vertical-align: middle;\n",
       "    }\n",
       "\n",
       "    .dataframe tbody tr th {\n",
       "        vertical-align: top;\n",
       "    }\n",
       "\n",
       "    .dataframe thead th {\n",
       "        text-align: right;\n",
       "    }\n",
       "</style>\n",
       "<table border=\"1\" class=\"dataframe\">\n",
       "  <thead>\n",
       "    <tr style=\"text-align: right;\">\n",
       "      <th></th>\n",
       "      <th>num</th>\n",
       "      <th>word</th>\n",
       "    </tr>\n",
       "  </thead>\n",
       "  <tbody>\n",
       "    <tr>\n",
       "      <th>1</th>\n",
       "      <td>0</td>\n",
       "      <td>event</td>\n",
       "    </tr>\n",
       "    <tr>\n",
       "      <th>1</th>\n",
       "      <td>1</td>\n",
       "      <td>for</td>\n",
       "    </tr>\n",
       "    <tr>\n",
       "      <th>1</th>\n",
       "      <td>2</td>\n",
       "      <td>freshmen</td>\n",
       "    </tr>\n",
       "    <tr>\n",
       "      <th>1</th>\n",
       "      <td>3</td>\n",
       "      <td>discover</td>\n",
       "    </tr>\n",
       "    <tr>\n",
       "      <th>1</th>\n",
       "      <td>4</td>\n",
       "      <td>career</td>\n",
       "    </tr>\n",
       "  </tbody>\n",
       "</table>\n",
       "</div>"
      ],
      "text/plain": [
       "   num      word\n",
       "1    0     event\n",
       "1    1       for\n",
       "1    2  freshmen\n",
       "1    3  discover\n",
       "1    4    career"
      ]
     },
     "execution_count": 4,
     "metadata": {},
     "output_type": "execute_result"
    }
   ],
   "source": [
    "# Create a list of word tokens\n",
    "tidy_format = df['no_punc'].str.split(expand=True).stack().reset_index(level=1)\n",
    "tidy_format = tidy_format.rename(columns={'level_1': 'num', 0: 'word'})\n",
    "tidy_format.index.name = None\n",
    "tidy_format.head()"
   ]
  },
  {
   "cell_type": "markdown",
   "metadata": {},
   "source": [
    "## VADER Analysis"
   ]
  },
  {
   "cell_type": "code",
   "execution_count": 5,
   "metadata": {},
   "outputs": [
    {
     "data": {
      "text/html": [
       "<div>\n",
       "<style scoped>\n",
       "    .dataframe tbody tr th:only-of-type {\n",
       "        vertical-align: middle;\n",
       "    }\n",
       "\n",
       "    .dataframe tbody tr th {\n",
       "        vertical-align: top;\n",
       "    }\n",
       "\n",
       "    .dataframe thead th {\n",
       "        text-align: right;\n",
       "    }\n",
       "</style>\n",
       "<table border=\"1\" class=\"dataframe\">\n",
       "  <thead>\n",
       "    <tr style=\"text-align: right;\">\n",
       "      <th></th>\n",
       "      <th>polarity</th>\n",
       "    </tr>\n",
       "    <tr>\n",
       "      <th>word</th>\n",
       "      <th></th>\n",
       "    </tr>\n",
       "  </thead>\n",
       "  <tbody>\n",
       "    <tr>\n",
       "      <th>$:</th>\n",
       "      <td>-1.5</td>\n",
       "    </tr>\n",
       "    <tr>\n",
       "      <th>%)</th>\n",
       "      <td>-0.4</td>\n",
       "    </tr>\n",
       "    <tr>\n",
       "      <th>%-)</th>\n",
       "      <td>-1.5</td>\n",
       "    </tr>\n",
       "    <tr>\n",
       "      <th>&amp;-:</th>\n",
       "      <td>-0.4</td>\n",
       "    </tr>\n",
       "    <tr>\n",
       "      <th>&amp;:</th>\n",
       "      <td>-0.7</td>\n",
       "    </tr>\n",
       "  </tbody>\n",
       "</table>\n",
       "</div>"
      ],
      "text/plain": [
       "      polarity\n",
       "word          \n",
       "$:        -1.5\n",
       "%)        -0.4\n",
       "%-)       -1.5\n",
       "&-:       -0.4\n",
       "&:        -0.7"
      ]
     },
     "execution_count": 5,
     "metadata": {},
     "output_type": "execute_result"
    }
   ],
   "source": [
    "# Import VADER lexicon\n",
    "vader_lexicon = pd.read_csv('vader_lexicon.txt', sep='\\t', header=None, index_col=[0], usecols=[0, 1], names=['word', 'polarity'])\n",
    "vader_lexicon.head()"
   ]
  },
  {
   "cell_type": "code",
   "execution_count": 6,
   "metadata": {
    "scrolled": false
   },
   "outputs": [
    {
     "data": {
      "text/html": [
       "<div>\n",
       "<style scoped>\n",
       "    .dataframe tbody tr th:only-of-type {\n",
       "        vertical-align: middle;\n",
       "    }\n",
       "\n",
       "    .dataframe tbody tr th {\n",
       "        vertical-align: top;\n",
       "    }\n",
       "\n",
       "    .dataframe thead th {\n",
       "        text-align: right;\n",
       "    }\n",
       "</style>\n",
       "<table border=\"1\" class=\"dataframe\">\n",
       "  <thead>\n",
       "    <tr style=\"text-align: right;\">\n",
       "      <th></th>\n",
       "      <th>subject</th>\n",
       "      <th>from</th>\n",
       "      <th>date</th>\n",
       "      <th>to</th>\n",
       "      <th>label</th>\n",
       "      <th>thread</th>\n",
       "      <th>no_punc</th>\n",
       "      <th>num</th>\n",
       "      <th>polarity</th>\n",
       "    </tr>\n",
       "    <tr>\n",
       "      <th>id</th>\n",
       "      <th></th>\n",
       "      <th></th>\n",
       "      <th></th>\n",
       "      <th></th>\n",
       "      <th></th>\n",
       "      <th></th>\n",
       "      <th></th>\n",
       "      <th></th>\n",
       "      <th></th>\n",
       "    </tr>\n",
       "  </thead>\n",
       "  <tbody>\n",
       "    <tr>\n",
       "      <th>1</th>\n",
       "      <td>event for freshmen: discover career opportunit...</td>\n",
       "      <td>\"RippleMatch\" &lt;katebeckman@ripplematch.com&gt;</td>\n",
       "      <td>Mon, 22 Feb 2021 20:11:34 +0000 (UTC)</td>\n",
       "      <td>tanishkumar@berkeley.edu</td>\n",
       "      <td>Inbox,Important,Category Promotions,Unread</td>\n",
       "      <td>1692427563481259075</td>\n",
       "      <td>event for freshmen  discover career opportunit...</td>\n",
       "      <td>1</td>\n",
       "      <td>1.6</td>\n",
       "    </tr>\n",
       "    <tr>\n",
       "      <th>6</th>\n",
       "      <td>complete your setup with the slack desktop app</td>\n",
       "      <td>\"Slack\" &lt;no-reply@email.slackhq.com&gt;</td>\n",
       "      <td>Thu, 21 Jan 2021 11:02:05 -0600</td>\n",
       "      <td>&lt;tanishkumar@berkeley.edu&gt;</td>\n",
       "      <td>Inbox,Important,Category Promotions,Unread</td>\n",
       "      <td>1689516575768603440</td>\n",
       "      <td>complete your setup with the slack desktop app</td>\n",
       "      <td>5</td>\n",
       "      <td>1.6</td>\n",
       "    </tr>\n",
       "    <tr>\n",
       "      <th>17</th>\n",
       "      <td>general registration is now open for winter/sp...</td>\n",
       "      <td>Mission College &lt;nadler@wvm.edu&gt;</td>\n",
       "      <td>Mon, 7 Dec 2020 13:45:42 -0500 (EST)</td>\n",
       "      <td>tanishkumar@berkeley.edu</td>\n",
       "      <td>Inbox,Category Promotions,Unread</td>\n",
       "      <td>1685446190686767938</td>\n",
       "      <td>general registration is now open for winter sp...</td>\n",
       "      <td>1</td>\n",
       "      <td>2.3</td>\n",
       "    </tr>\n",
       "    <tr>\n",
       "      <th>25</th>\n",
       "      <td>a global bank that doubles as a cybersecurity ...</td>\n",
       "      <td>\"Tricia at WayUp\" &lt;info@bb3.wayup.com&gt;</td>\n",
       "      <td>Tue, 08 Dec 2020 02:19:45 +0000</td>\n",
       "      <td>\"Tanish Kumar\" &lt;tanishkumar@berkeley.edu&gt;</td>\n",
       "      <td>Inbox,Opened,Category Promotions</td>\n",
       "      <td>1685474756691839098</td>\n",
       "      <td>a global bank that doubles as a cybersecurity ...</td>\n",
       "      <td>7</td>\n",
       "      <td>2.3</td>\n",
       "    </tr>\n",
       "    <tr>\n",
       "      <th>27</th>\n",
       "      <td>the next biggest thing</td>\n",
       "      <td>DailyDropout.fyi &lt;dailydropout@substack.com&gt;</td>\n",
       "      <td>Fri, 29 Jan 2021 23:09:33 +0000</td>\n",
       "      <td>tanishkumar@berkeley.edu</td>\n",
       "      <td>Inbox,Category Promotions,Unread</td>\n",
       "      <td>1690264506723567323</td>\n",
       "      <td>the next biggest thing</td>\n",
       "      <td>8</td>\n",
       "      <td>2.3</td>\n",
       "    </tr>\n",
       "  </tbody>\n",
       "</table>\n",
       "</div>"
      ],
      "text/plain": [
       "                                              subject  \\\n",
       "id                                                      \n",
       "1   event for freshmen: discover career opportunit...   \n",
       "6      complete your setup with the slack desktop app   \n",
       "17  general registration is now open for winter/sp...   \n",
       "25  a global bank that doubles as a cybersecurity ...   \n",
       "27                             the next biggest thing   \n",
       "\n",
       "                                            from  \\\n",
       "id                                                 \n",
       "1    \"RippleMatch\" <katebeckman@ripplematch.com>   \n",
       "6           \"Slack\" <no-reply@email.slackhq.com>   \n",
       "17              Mission College <nadler@wvm.edu>   \n",
       "25        \"Tricia at WayUp\" <info@bb3.wayup.com>   \n",
       "27  DailyDropout.fyi <dailydropout@substack.com>   \n",
       "\n",
       "                                     date  \\\n",
       "id                                          \n",
       "1   Mon, 22 Feb 2021 20:11:34 +0000 (UTC)   \n",
       "6         Thu, 21 Jan 2021 11:02:05 -0600   \n",
       "17   Mon, 7 Dec 2020 13:45:42 -0500 (EST)   \n",
       "25        Tue, 08 Dec 2020 02:19:45 +0000   \n",
       "27        Fri, 29 Jan 2021 23:09:33 +0000   \n",
       "\n",
       "                                           to  \\\n",
       "id                                              \n",
       "1                    tanishkumar@berkeley.edu   \n",
       "6                  <tanishkumar@berkeley.edu>   \n",
       "17                   tanishkumar@berkeley.edu   \n",
       "25  \"Tanish Kumar\" <tanishkumar@berkeley.edu>   \n",
       "27                   tanishkumar@berkeley.edu   \n",
       "\n",
       "                                         label               thread  \\\n",
       "id                                                                    \n",
       "1   Inbox,Important,Category Promotions,Unread  1692427563481259075   \n",
       "6   Inbox,Important,Category Promotions,Unread  1689516575768603440   \n",
       "17            Inbox,Category Promotions,Unread  1685446190686767938   \n",
       "25            Inbox,Opened,Category Promotions  1685474756691839098   \n",
       "27            Inbox,Category Promotions,Unread  1690264506723567323   \n",
       "\n",
       "                                              no_punc  num  polarity  \n",
       "id                                                                    \n",
       "1   event for freshmen  discover career opportunit...    1       1.6  \n",
       "6      complete your setup with the slack desktop app    5       1.6  \n",
       "17  general registration is now open for winter sp...    1       2.3  \n",
       "25  a global bank that doubles as a cybersecurity ...    7       2.3  \n",
       "27                             the next biggest thing    8       2.3  "
      ]
     },
     "execution_count": 6,
     "metadata": {},
     "output_type": "execute_result"
    }
   ],
   "source": [
    "# Create the polarity feature by adding the polarity of each individual words in a subject line together.\n",
    "polarity = tidy_format.merge(vader_lexicon, on='word')\n",
    "polarity.index.name = 'id'\n",
    "polarity.loc[pd.isnull(polarity['polarity']), 'polarity'] = 0\n",
    "polarity = polarity.groupby('id').sum()\n",
    "df.index.name = 'id'\n",
    "df = df.merge(polarity, on='id')\n",
    "df.head()"
   ]
  },
  {
   "cell_type": "code",
   "execution_count": 7,
   "metadata": {},
   "outputs": [
    {
     "name": "stderr",
     "output_type": "stream",
     "text": [
      "C:\\Users\\yang2\\anaconda3\\lib\\site-packages\\seaborn\\distributions.py:2551: FutureWarning: `distplot` is a deprecated function and will be removed in a future version. Please adapt your code to use either `displot` (a figure-level function with similar flexibility) or `histplot` (an axes-level function for histograms).\n",
      "  warnings.warn(msg, FutureWarning)\n"
     ]
    },
    {
     "data": {
      "text/plain": [
       "<AxesSubplot:xlabel='polarity', ylabel='Density'>"
      ]
     },
     "execution_count": 7,
     "metadata": {},
     "output_type": "execute_result"
    },
    {
     "data": {
      "image/png": "[encoded data removed]",
      "text/plain": [
       "<Figure size 432x288 with 1 Axes>"
      ]
     },
     "metadata": {},
     "output_type": "display_data"
    }
   ],
   "source": [
    "# Display the distribution of polarity scores\n",
    "sns.distplot(df['polarity'])"
   ]
  },
  {
   "cell_type": "code",
   "execution_count": 8,
   "metadata": {},
   "outputs": [
    {
     "name": "stderr",
     "output_type": "stream",
     "text": [
      "C:\\Users\\yang2\\anaconda3\\lib\\site-packages\\seaborn\\distributions.py:2551: FutureWarning: `distplot` is a deprecated function and will be removed in a future version. Please adapt your code to use either `displot` (a figure-level function with similar flexibility) or `histplot` (an axes-level function for histograms).\n",
      "  warnings.warn(msg, FutureWarning)\n"
     ]
    },
    {
     "data": {
      "image/png": "[encoded data removed]",
      "text/plain": [
       "<Figure size 432x288 with 1 Axes>"
      ]
     },
     "metadata": {},
     "output_type": "display_data"
    }
   ],
   "source": [
    "# Display the distribution of normalized polarity scores\n",
    "df['normalized'] = df['polarity'] / np.sqrt(np.square(df['polarity']) + 15)\n",
    "sns.distplot(df['normalized'])\n",
    "plt.xlim(-1, 1);"
   ]
  },
  {
   "cell_type": "code",
   "execution_count": 9,
   "metadata": {},
   "outputs": [
    {
     "data": {
      "text/plain": [
       "6165"
      ]
     },
     "execution_count": 9,
     "metadata": {},
     "output_type": "execute_result"
    }
   ],
   "source": [
    "# The number of normalized polarity scores that are classified as positive (>= 0.05)\n",
    "len(df.loc[df['normalized'] >= 0.05])"
   ]
  },
  {
   "cell_type": "code",
   "execution_count": 10,
   "metadata": {},
   "outputs": [
    {
     "data": {
      "text/plain": [
       "1194"
      ]
     },
     "execution_count": 10,
     "metadata": {},
     "output_type": "execute_result"
    }
   ],
   "source": [
    "# The number of normalized polarity scores that are classified as negative (<= -0.05)\n",
    "len(df.loc[df['normalized'] <= -0.05])"
   ]
  },
  {
   "cell_type": "code",
   "execution_count": 11,
   "metadata": {},
   "outputs": [
    {
     "data": {
      "text/plain": [
       "24"
      ]
     },
     "execution_count": 11,
     "metadata": {},
     "output_type": "execute_result"
    }
   ],
   "source": [
    "# The number of normalized polarity scores that are classified as neutral (>= -0.05 & <= 0.05) \n",
    "len(df) - len(df.loc[df['normalized'] <= -0.05]) - len(df.loc[df['normalized'] >= 0.05])"
   ]
  },
  {
   "cell_type": "code",
   "execution_count": 12,
   "metadata": {},
   "outputs": [
    {
     "name": "stdout",
     "output_type": "stream",
     "text": [
      "Most negative subject lines:\n",
      "\n",
      "   take 10% off through sunday!\n",
      "\n",
      "   haven't added a payment method yet? here's why you should.\n",
      "\n",
      "   student at martin luther king jr. freedom center and 9 more jobs in berkeley, ca for you. apply now.\n",
      "\n",
      "   lowkey nights are lowkey boring. tame impala \\\\ billie eilish \\\\ rage against the machine are coming to sf bay area.\n",
      "\n",
      "   acrobat dc makes collaborating easy\n"
     ]
    }
   ],
   "source": [
    "# Top 5 most negative subject lines\n",
    "print('Most negative subject lines:')\n",
    "for s in df.sort_values('polarity').head()['subject']:\n",
    "    print('\\n  ', s)"
   ]
  },
  {
   "cell_type": "code",
   "execution_count": 13,
   "metadata": {},
   "outputs": [
    {
     "name": "stdout",
     "output_type": "stream",
     "text": [
      "Most positive subject lines:\n",
      "\n",
      "   designer favorites on sale\n",
      "\n",
      "   purchase your haas @ home package!\n",
      "\n",
      "   save now, travel later with unsold.com\n",
      "\n",
      "   your postman weekly summary for november 17 - november 23\n",
      "\n",
      "   problem 3, part b\n"
     ]
    }
   ],
   "source": [
    "# Top 5 most positive subject lines\n",
    "print('Most positive subject lines:')\n",
    "for s in df.sort_values('polarity', ascending=False).head()['subject']:\n",
    "    print('\\n  ', s)"
   ]
  }
 ],
 "metadata": {
  "kernelspec": {
   "display_name": "Python 3",
   "language": "python",
   "name": "python3"
  },
  "language_info": {
   "codemirror_mode": {
    "name": "ipython",
    "version": 3
   },
   "file_extension": ".py",
   "mimetype": "text/x-python",
   "name": "python",
   "nbconvert_exporter": "python",
   "pygments_lexer": "ipython3",
   "version": "3.8.5"
  }
 },
 "nbformat": 4,
 "nbformat_minor": 4
}
