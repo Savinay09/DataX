{
 "cells": [
  {
   "cell_type": "code",
   "execution_count": 1,
   "metadata": {},
   "outputs": [
    {
     "name": "stdout",
     "output_type": "stream",
     "text": [
      "INFO:tensorflow:Enabling eager execution\n",
      "INFO:tensorflow:Enabling v2 tensorshape\n",
      "INFO:tensorflow:Enabling resource variables\n",
      "INFO:tensorflow:Enabling tensor equality\n",
      "INFO:tensorflow:Enabling control flow v2\n"
     ]
    }
   ],
   "source": [
    "from keras.datasets import imdb\n",
    "import pandas as pd\n",
    "import numpy as np\n",
    "from sklearn.model_selection import train_test_split\n",
    "import keras\n",
    "from keras.layers import SpatialDropout1D, Dense, Dropout, LSTM, Bidirectional\n",
    "from keras.layers.embeddings import Embedding\n",
    "from keras.models import Model\n",
    "import string\n",
    "import re\n",
    "from keras.preprocessing.text import Tokenizer\n",
    "from keras.preprocessing.sequence import pad_sequences\n",
    "from matplotlib import pyplot as plt\n",
    "from ast import literal_eval\n",
    "from scipy.stats.stats import pearsonr"
   ]
  },
  {
   "cell_type": "code",
   "execution_count": 2,
   "metadata": {
    "scrolled": false
   },
   "outputs": [
    {
     "data": {
      "text/html": [
       "<div>\n",
       "<style scoped>\n",
       "    .dataframe tbody tr th:only-of-type {\n",
       "        vertical-align: middle;\n",
       "    }\n",
       "\n",
       "    .dataframe tbody tr th {\n",
       "        vertical-align: top;\n",
       "    }\n",
       "\n",
       "    .dataframe thead th {\n",
       "        text-align: right;\n",
       "    }\n",
       "</style>\n",
       "<table border=\"1\" class=\"dataframe\">\n",
       "  <thead>\n",
       "    <tr style=\"text-align: right;\">\n",
       "      <th></th>\n",
       "      <th>id</th>\n",
       "      <th>subject</th>\n",
       "      <th>from</th>\n",
       "      <th>date</th>\n",
       "      <th>to</th>\n",
       "      <th>label</th>\n",
       "      <th>thread</th>\n",
       "      <th>time</th>\n",
       "      <th>hour</th>\n",
       "      <th>month</th>\n",
       "      <th>...</th>\n",
       "      <th>subjectivity</th>\n",
       "      <th>num_qm</th>\n",
       "      <th>num_em</th>\n",
       "      <th>hashtag</th>\n",
       "      <th>prop_upper</th>\n",
       "      <th>num_full_upper</th>\n",
       "      <th>num_repeated</th>\n",
       "      <th>matrix</th>\n",
       "      <th>scores</th>\n",
       "      <th>concepts</th>\n",
       "    </tr>\n",
       "  </thead>\n",
       "  <tbody>\n",
       "    <tr>\n",
       "      <th>0</th>\n",
       "      <td>0</td>\n",
       "      <td>Event for Freshmen: Discover career opportunit...</td>\n",
       "      <td>\"RippleMatch\" &lt;katebeckman@ripplematch.com&gt;</td>\n",
       "      <td>2021-02-22 20:11:34+00:00</td>\n",
       "      <td>tanishkumar@berkeley.edu</td>\n",
       "      <td>Inbox,Important,Category Promotions,Unread</td>\n",
       "      <td>1.692428e+18</td>\n",
       "      <td>20:11:34</td>\n",
       "      <td>20</td>\n",
       "      <td>2</td>\n",
       "      <td>...</td>\n",
       "      <td>0.000000</td>\n",
       "      <td>0</td>\n",
       "      <td>1</td>\n",
       "      <td>0</td>\n",
       "      <td>0.115942</td>\n",
       "      <td>1</td>\n",
       "      <td>0</td>\n",
       "      <td>[0.89521277, 0.020943033, 0.02106695, 0.020961...</td>\n",
       "      <td>0.895205</td>\n",
       "      <td>0</td>\n",
       "    </tr>\n",
       "    <tr>\n",
       "      <th>1</th>\n",
       "      <td>5</td>\n",
       "      <td>Complete your setup with the Slack desktop app</td>\n",
       "      <td>\"Slack\" &lt;no-reply@email.slackhq.com&gt;</td>\n",
       "      <td>2021-01-21 17:02:05+00:00</td>\n",
       "      <td>&lt;tanishkumar@berkeley.edu&gt;</td>\n",
       "      <td>Inbox,Important,Category Promotions,Unread</td>\n",
       "      <td>1.689517e+18</td>\n",
       "      <td>17:02:05</td>\n",
       "      <td>17</td>\n",
       "      <td>1</td>\n",
       "      <td>...</td>\n",
       "      <td>0.400000</td>\n",
       "      <td>0</td>\n",
       "      <td>0</td>\n",
       "      <td>0</td>\n",
       "      <td>0.043478</td>\n",
       "      <td>0</td>\n",
       "      <td>0</td>\n",
       "      <td>[0.19459948, 0.027835023, 0.02783517, 0.694059...</td>\n",
       "      <td>0.694060</td>\n",
       "      <td>3</td>\n",
       "    </tr>\n",
       "    <tr>\n",
       "      <th>2</th>\n",
       "      <td>12</td>\n",
       "      <td>Are you ready to play?</td>\n",
       "      <td>#ERROR!</td>\n",
       "      <td>2020-12-15 20:06:10+00:00</td>\n",
       "      <td>tanishkumar@berkeley.edu</td>\n",
       "      <td>Inbox,Category Promotions,Unread</td>\n",
       "      <td>1.686176e+18</td>\n",
       "      <td>20:06:10</td>\n",
       "      <td>20</td>\n",
       "      <td>12</td>\n",
       "      <td>...</td>\n",
       "      <td>0.500000</td>\n",
       "      <td>1</td>\n",
       "      <td>0</td>\n",
       "      <td>0</td>\n",
       "      <td>0.045455</td>\n",
       "      <td>0</td>\n",
       "      <td>0</td>\n",
       "      <td>[0.055558477, 0.3885321, 0.388899, 0.055893436...</td>\n",
       "      <td>0.388899</td>\n",
       "      <td>2</td>\n",
       "    </tr>\n",
       "    <tr>\n",
       "      <th>3</th>\n",
       "      <td>13</td>\n",
       "      <td>Gadabout - plus, Go behind the scenes of our n...</td>\n",
       "      <td>#ERROR!</td>\n",
       "      <td>2021-02-01 10:14:58+00:00</td>\n",
       "      <td>&lt;tanishkumar@berkeley.edu&gt;</td>\n",
       "      <td>Inbox,Category Promotions,Unread</td>\n",
       "      <td>1.690487e+18</td>\n",
       "      <td>10:14:58</td>\n",
       "      <td>10</td>\n",
       "      <td>2</td>\n",
       "      <td>...</td>\n",
       "      <td>0.577273</td>\n",
       "      <td>0</td>\n",
       "      <td>0</td>\n",
       "      <td>0</td>\n",
       "      <td>0.037037</td>\n",
       "      <td>0</td>\n",
       "      <td>0</td>\n",
       "      <td>[0.021187034, 0.020874625, 0.020880118, 0.7477...</td>\n",
       "      <td>0.747757</td>\n",
       "      <td>3</td>\n",
       "    </tr>\n",
       "    <tr>\n",
       "      <th>4</th>\n",
       "      <td>16</td>\n",
       "      <td>General Registration is now open for Winter/Sp...</td>\n",
       "      <td>Mission College &lt;nadler@wvm.edu&gt;</td>\n",
       "      <td>2020-12-07 18:45:42+00:00</td>\n",
       "      <td>tanishkumar@berkeley.edu</td>\n",
       "      <td>Inbox,Category Promotions,Unread</td>\n",
       "      <td>1.685446e+18</td>\n",
       "      <td>18:45:42</td>\n",
       "      <td>18</td>\n",
       "      <td>12</td>\n",
       "      <td>...</td>\n",
       "      <td>0.500000</td>\n",
       "      <td>0</td>\n",
       "      <td>1</td>\n",
       "      <td>0</td>\n",
       "      <td>0.078431</td>\n",
       "      <td>0</td>\n",
       "      <td>0</td>\n",
       "      <td>[0.027871301, 0.027813246, 0.39802405, 0.19351...</td>\n",
       "      <td>0.397999</td>\n",
       "      <td>2</td>\n",
       "    </tr>\n",
       "  </tbody>\n",
       "</table>\n",
       "<p>5 rows × 22 columns</p>\n",
       "</div>"
      ],
      "text/plain": [
       "   id                                            subject  \\\n",
       "0   0  Event for Freshmen: Discover career opportunit...   \n",
       "1   5     Complete your setup with the Slack desktop app   \n",
       "2  12                             Are you ready to play?   \n",
       "3  13  Gadabout - plus, Go behind the scenes of our n...   \n",
       "4  16  General Registration is now open for Winter/Sp...   \n",
       "\n",
       "                                          from                       date  \\\n",
       "0  \"RippleMatch\" <katebeckman@ripplematch.com>  2021-02-22 20:11:34+00:00   \n",
       "1         \"Slack\" <no-reply@email.slackhq.com>  2021-01-21 17:02:05+00:00   \n",
       "2                                      #ERROR!  2020-12-15 20:06:10+00:00   \n",
       "3                                      #ERROR!  2021-02-01 10:14:58+00:00   \n",
       "4             Mission College <nadler@wvm.edu>  2020-12-07 18:45:42+00:00   \n",
       "\n",
       "                           to                                       label  \\\n",
       "0    tanishkumar@berkeley.edu  Inbox,Important,Category Promotions,Unread   \n",
       "1  <tanishkumar@berkeley.edu>  Inbox,Important,Category Promotions,Unread   \n",
       "2    tanishkumar@berkeley.edu            Inbox,Category Promotions,Unread   \n",
       "3  <tanishkumar@berkeley.edu>            Inbox,Category Promotions,Unread   \n",
       "4    tanishkumar@berkeley.edu            Inbox,Category Promotions,Unread   \n",
       "\n",
       "         thread      time  hour  month  ... subjectivity  num_qm  num_em  \\\n",
       "0  1.692428e+18  20:11:34    20      2  ...     0.000000       0       1   \n",
       "1  1.689517e+18  17:02:05    17      1  ...     0.400000       0       0   \n",
       "2  1.686176e+18  20:06:10    20     12  ...     0.500000       1       0   \n",
       "3  1.690487e+18  10:14:58    10      2  ...     0.577273       0       0   \n",
       "4  1.685446e+18  18:45:42    18     12  ...     0.500000       0       1   \n",
       "\n",
       "   hashtag  prop_upper  num_full_upper  num_repeated  \\\n",
       "0        0    0.115942               1             0   \n",
       "1        0    0.043478               0             0   \n",
       "2        0    0.045455               0             0   \n",
       "3        0    0.037037               0             0   \n",
       "4        0    0.078431               0             0   \n",
       "\n",
       "                                              matrix    scores concepts  \n",
       "0  [0.89521277, 0.020943033, 0.02106695, 0.020961...  0.895205        0  \n",
       "1  [0.19459948, 0.027835023, 0.02783517, 0.694059...  0.694060        3  \n",
       "2  [0.055558477, 0.3885321, 0.388899, 0.055893436...  0.388899        2  \n",
       "3  [0.021187034, 0.020874625, 0.020880118, 0.7477...  0.747757        3  \n",
       "4  [0.027871301, 0.027813246, 0.39802405, 0.19351...  0.397999        2  \n",
       "\n",
       "[5 rows x 22 columns]"
      ]
     },
     "execution_count": 2,
     "metadata": {},
     "output_type": "execute_result"
    }
   ],
   "source": [
    "# Import dataset\n",
    "df = pd.read_csv(\"lda_labeled_master.csv\")\n",
    "df = df.rename(columns={\"Unnamed: 0\": \"id\"})\n",
    "df.head()"
   ]
  },
  {
   "cell_type": "code",
   "execution_count": 3,
   "metadata": {
    "scrolled": true
   },
   "outputs": [],
   "source": [
    "# Extract the values from matrix\n",
    "df['matrix'] = df['matrix'].apply(literal_eval)\n",
    "emotions = pd.DataFrame(df['matrix'].tolist(), columns=['enthusiasm', 'urgency', 'surprise', 'trust', 'curiosity', 'exclusivity'])\n",
    "emotions['id'] = df['id']"
   ]
  },
  {
   "cell_type": "code",
   "execution_count": 4,
   "metadata": {},
   "outputs": [
    {
     "name": "stderr",
     "output_type": "stream",
     "text": [
      "<ipython-input-4-f7afdb384d94>:3: SettingWithCopyWarning: \n",
      "A value is trying to be set on a copy of a slice from a DataFrame.\n",
      "Try using .loc[row_indexer,col_indexer] = value instead\n",
      "\n",
      "See the caveats in the documentation: https://pandas.pydata.org/pandas-docs/stable/user_guide/indexing.html#returning-a-view-versus-a-copy\n",
      "  cleaned['subject'] = cleaned['subject'].str.lower()\n",
      "<ipython-input-4-f7afdb384d94>:4: SettingWithCopyWarning: \n",
      "A value is trying to be set on a copy of a slice from a DataFrame.\n",
      "Try using .loc[row_indexer,col_indexer] = value instead\n",
      "\n",
      "See the caveats in the documentation: https://pandas.pydata.org/pandas-docs/stable/user_guide/indexing.html#returning-a-view-versus-a-copy\n",
      "  cleaned['subject'] = cleaned['subject'].str.replace('[^\\w\\s]',' ')\n"
     ]
    },
    {
     "data": {
      "text/html": [
       "<div>\n",
       "<style scoped>\n",
       "    .dataframe tbody tr th:only-of-type {\n",
       "        vertical-align: middle;\n",
       "    }\n",
       "\n",
       "    .dataframe tbody tr th {\n",
       "        vertical-align: top;\n",
       "    }\n",
       "\n",
       "    .dataframe thead th {\n",
       "        text-align: right;\n",
       "    }\n",
       "</style>\n",
       "<table border=\"1\" class=\"dataframe\">\n",
       "  <thead>\n",
       "    <tr style=\"text-align: right;\">\n",
       "      <th></th>\n",
       "      <th>id</th>\n",
       "      <th>subject</th>\n",
       "      <th>enthusiasm</th>\n",
       "      <th>urgency</th>\n",
       "      <th>surprise</th>\n",
       "      <th>trust</th>\n",
       "      <th>curiosity</th>\n",
       "      <th>exclusivity</th>\n",
       "    </tr>\n",
       "  </thead>\n",
       "  <tbody>\n",
       "    <tr>\n",
       "      <th>0</th>\n",
       "      <td>0</td>\n",
       "      <td>event for freshmen  discover career opportunit...</td>\n",
       "      <td>0.895213</td>\n",
       "      <td>0.020943</td>\n",
       "      <td>0.021067</td>\n",
       "      <td>0.020962</td>\n",
       "      <td>0.020947</td>\n",
       "      <td>0.020869</td>\n",
       "    </tr>\n",
       "    <tr>\n",
       "      <th>1</th>\n",
       "      <td>5</td>\n",
       "      <td>complete your setup with the slack desktop app</td>\n",
       "      <td>0.194599</td>\n",
       "      <td>0.027835</td>\n",
       "      <td>0.027835</td>\n",
       "      <td>0.694060</td>\n",
       "      <td>0.027835</td>\n",
       "      <td>0.027835</td>\n",
       "    </tr>\n",
       "    <tr>\n",
       "      <th>2</th>\n",
       "      <td>12</td>\n",
       "      <td>are you ready to play</td>\n",
       "      <td>0.055558</td>\n",
       "      <td>0.388532</td>\n",
       "      <td>0.388899</td>\n",
       "      <td>0.055893</td>\n",
       "      <td>0.055558</td>\n",
       "      <td>0.055558</td>\n",
       "    </tr>\n",
       "    <tr>\n",
       "      <th>3</th>\n",
       "      <td>13</td>\n",
       "      <td>gadabout   plus  go behind the scenes of our n...</td>\n",
       "      <td>0.021187</td>\n",
       "      <td>0.020875</td>\n",
       "      <td>0.020880</td>\n",
       "      <td>0.747766</td>\n",
       "      <td>0.020858</td>\n",
       "      <td>0.168434</td>\n",
       "    </tr>\n",
       "    <tr>\n",
       "      <th>4</th>\n",
       "      <td>16</td>\n",
       "      <td>general registration is now open for winter sp...</td>\n",
       "      <td>0.027871</td>\n",
       "      <td>0.027813</td>\n",
       "      <td>0.398024</td>\n",
       "      <td>0.193520</td>\n",
       "      <td>0.324874</td>\n",
       "      <td>0.027898</td>\n",
       "    </tr>\n",
       "  </tbody>\n",
       "</table>\n",
       "</div>"
      ],
      "text/plain": [
       "   id                                            subject  enthusiasm  \\\n",
       "0   0  event for freshmen  discover career opportunit...    0.895213   \n",
       "1   5     complete your setup with the slack desktop app    0.194599   \n",
       "2  12                             are you ready to play     0.055558   \n",
       "3  13  gadabout   plus  go behind the scenes of our n...    0.021187   \n",
       "4  16  general registration is now open for winter sp...    0.027871   \n",
       "\n",
       "    urgency  surprise     trust  curiosity  exclusivity  \n",
       "0  0.020943  0.021067  0.020962   0.020947     0.020869  \n",
       "1  0.027835  0.027835  0.694060   0.027835     0.027835  \n",
       "2  0.388532  0.388899  0.055893   0.055558     0.055558  \n",
       "3  0.020875  0.020880  0.747766   0.020858     0.168434  \n",
       "4  0.027813  0.398024  0.193520   0.324874     0.027898  "
      ]
     },
     "execution_count": 4,
     "metadata": {},
     "output_type": "execute_result"
    }
   ],
   "source": [
    "# Clean the subject lines\n",
    "cleaned = df[['id','subject']]\n",
    "cleaned['subject'] = cleaned['subject'].str.lower()\n",
    "cleaned['subject'] = cleaned['subject'].str.replace('[^\\w\\s]',' ')\n",
    "cleaned = pd.merge(cleaned, emotions, left_on='id', right_on='id')\n",
    "cleaned = cleaned.fillna(0)\n",
    "cleaned.head()"
   ]
  },
  {
   "cell_type": "code",
   "execution_count": 5,
   "metadata": {},
   "outputs": [
    {
     "data": {
      "text/plain": [
       "False"
      ]
     },
     "execution_count": 5,
     "metadata": {},
     "output_type": "execute_result"
    }
   ],
   "source": [
    "cleaned.isnull().values.any()"
   ]
  },
  {
   "cell_type": "code",
   "execution_count": 6,
   "metadata": {},
   "outputs": [],
   "source": [
    "# Create X and Y and split training and test sets\n",
    "x = cleaned['subject'].values\n",
    "y = cleaned[['enthusiasm', 'urgency', 'surprise', 'trust', 'curiosity', 'exclusivity']].values\n",
    "x_train, x_test, y_train, y_test = train_test_split(x, y, test_size=0.2, random_state=0)"
   ]
  },
  {
   "cell_type": "code",
   "execution_count": 7,
   "metadata": {},
   "outputs": [
    {
     "data": {
      "text/plain": [
       "9923"
      ]
     },
     "execution_count": 7,
     "metadata": {},
     "output_type": "execute_result"
    }
   ],
   "source": [
    "# Tokenize the words\n",
    "tokenizer = Tokenizer(num_words=5000)\n",
    "tokenizer.fit_on_texts(x_train)\n",
    "words_to_index = tokenizer.word_index\n",
    "len(words_to_index)"
   ]
  },
  {
   "cell_type": "code",
   "execution_count": 8,
   "metadata": {},
   "outputs": [],
   "source": [
    "# Pad the sequences\n",
    "train_sequences = tokenizer.texts_to_sequences(x_train)\n",
    "x_train_indices = pad_sequences(train_sequences, padding='post', maxlen=20)\n",
    "test_sequences = tokenizer.texts_to_sequences(x_test)\n",
    "x_test_indices = pad_sequences(test_sequences, padding='post', maxlen=20)"
   ]
  },
  {
   "cell_type": "code",
   "execution_count": 9,
   "metadata": {},
   "outputs": [],
   "source": [
    "# Read GloVe vectors\n",
    "def read_glove_vector(glove_vec):\n",
    "    with open(glove_vec, 'r', encoding='UTF-8') as f:\n",
    "        words = set()\n",
    "        word_to_vec_map = {}\n",
    "        for line in f:\n",
    "            w_line = line.split()\n",
    "            curr_word = w_line[0]\n",
    "            word_to_vec_map[curr_word] = np.array(w_line[1:], dtype=np.float64)\n",
    "    return word_to_vec_map\n",
    "\n",
    "word_to_vec_map = read_glove_vector('glove.6b.100d.txt')"
   ]
  },
  {
   "cell_type": "code",
   "execution_count": 10,
   "metadata": {},
   "outputs": [
    {
     "name": "stdout",
     "output_type": "stream",
     "text": [
      "Converted 8793 words (1130 misses)\n"
     ]
    }
   ],
   "source": [
    "# Create embedding layer\n",
    "vocab_len = len(words_to_index)\n",
    "emb_dim = 100\n",
    "input_shape=(20, )\n",
    "hits = 0\n",
    "misses = 0\n",
    "\n",
    "emb_matrix = np.zeros((vocab_len, emb_dim))\n",
    "\n",
    "for word, i in words_to_index.items():\n",
    "    embedding_vector = word_to_vec_map.get(word)\n",
    "    if embedding_vector is not None:\n",
    "        emb_matrix[i-1, :] = embedding_vector\n",
    "        hits += 1\n",
    "    else:\n",
    "        misses += 1\n",
    "\n",
    "print(\"Converted %d words (%d misses)\" % (hits, misses))"
   ]
  },
  {
   "cell_type": "code",
   "execution_count": 11,
   "metadata": {},
   "outputs": [],
   "source": [
    "# Model Creation\n",
    "emb_layer = Embedding(vocab_len, emb_dim, input_shape=input_shape, weights=[emb_matrix], trainable=False)\n",
    "keras.backend.clear_session()\n",
    "model = keras.Sequential()\n",
    "model.add(emb_layer)\n",
    "model.add(SpatialDropout1D(0.1))\n",
    "model.add(Bidirectional(LSTM(150, dropout=0.2, recurrent_dropout=0.2, return_sequences=False)))\n",
    "model.add(Dropout(0.2))\n",
    "model.add(Dense(6, activation=\"softmax\"))\n",
    "model.compile(loss='categorical_crossentropy', optimizer=\"adam\", metrics=['accuracy'])"
   ]
  },
  {
   "cell_type": "code",
   "execution_count": 12,
   "metadata": {},
   "outputs": [
    {
     "data": {
      "text/plain": [
       "array([[ 784,  785,    2, ...,    0,    0,    0],\n",
       "       [  10, 3444, 3445, ...,    0,    0,    0],\n",
       "       [  17,  663,   15, ...,    0,    0,    0],\n",
       "       ...,\n",
       "       [  70,  129,  164, ...,    0,    0,    0],\n",
       "       [   4,  344, 1826, ...,    0,    0,    0],\n",
       "       [  10, 2453,   35, ...,    0,    0,    0]])"
      ]
     },
     "execution_count": 12,
     "metadata": {},
     "output_type": "execute_result"
    }
   ],
   "source": [
    "x_train_indices"
   ]
  },
  {
   "cell_type": "code",
   "execution_count": 13,
   "metadata": {},
   "outputs": [
    {
     "data": {
      "text/plain": [
       "array([[0.03335294, 0.43355662, 0.43303156, 0.03335288, 0.03335305,\n",
       "        0.03335297],\n",
       "       [0.0334746 , 0.03337724, 0.03347392, 0.8329159 , 0.03335498,\n",
       "        0.03340337],\n",
       "       [0.24249883, 0.49510357, 0.02386519, 0.02389482, 0.02381879,\n",
       "        0.19081879],\n",
       "       ...,\n",
       "       [0.7884805 , 0.08657275, 0.01192443, 0.01194361, 0.01196148,\n",
       "        0.08911718],\n",
       "       [0.83331406, 0.03333718, 0.03333719, 0.03333718, 0.03333721,\n",
       "        0.0333372 ],\n",
       "       [0.05793087, 0.71700317, 0.05558374, 0.05749254, 0.05558388,\n",
       "        0.05640579]])"
      ]
     },
     "execution_count": 13,
     "metadata": {},
     "output_type": "execute_result"
    }
   ],
   "source": [
    "y_train"
   ]
  },
  {
   "cell_type": "code",
   "execution_count": 14,
   "metadata": {},
   "outputs": [
    {
     "name": "stdout",
     "output_type": "stream",
     "text": [
      "Epoch 1/10\n",
      "327/327 - 33s - loss: 1.7601 - accuracy: 0.2640 - val_loss: 1.7129 - val_accuracy: 0.3419\n",
      "Epoch 2/10\n",
      "327/327 - 8s - loss: 1.7123 - accuracy: 0.3364 - val_loss: 1.6724 - val_accuracy: 0.3885\n",
      "Epoch 3/10\n",
      "327/327 - 8s - loss: 1.6752 - accuracy: 0.3895 - val_loss: 1.6390 - val_accuracy: 0.4376\n",
      "Epoch 4/10\n",
      "327/327 - 8s - loss: 1.6376 - accuracy: 0.4306 - val_loss: 1.6212 - val_accuracy: 0.4513\n",
      "Epoch 5/10\n",
      "327/327 - 7s - loss: 1.6084 - accuracy: 0.4646 - val_loss: 1.5925 - val_accuracy: 0.4806\n",
      "Epoch 6/10\n",
      "327/327 - 8s - loss: 1.5732 - accuracy: 0.5043 - val_loss: 1.5666 - val_accuracy: 0.5090\n",
      "Epoch 7/10\n",
      "327/327 - 8s - loss: 1.5503 - accuracy: 0.5218 - val_loss: 1.5485 - val_accuracy: 0.5349\n",
      "Epoch 8/10\n",
      "327/327 - 7s - loss: 1.5273 - accuracy: 0.5501 - val_loss: 1.5331 - val_accuracy: 0.5426\n",
      "Epoch 9/10\n",
      "327/327 - 7s - loss: 1.5094 - accuracy: 0.5709 - val_loss: 1.5214 - val_accuracy: 0.5633\n",
      "Epoch 10/10\n",
      "327/327 - 7s - loss: 1.4891 - accuracy: 0.5842 - val_loss: 1.5117 - val_accuracy: 0.5573\n"
     ]
    }
   ],
   "source": [
    "# Fit the model\n",
    "history = model.fit(x_train_indices, y_train, validation_split=0.1, batch_size=32, epochs=10, shuffle=False, verbose=2)"
   ]
  },
  {
   "cell_type": "code",
   "execution_count": 15,
   "metadata": {},
   "outputs": [
    {
     "data": {
      "text/plain": [
       "array([[0.34615597, 0.15650484, 0.12904088, 0.12458929, 0.13167703,\n",
       "        0.11203201],\n",
       "       [0.09757742, 0.15004979, 0.12112677, 0.17671049, 0.14762804,\n",
       "        0.30690753],\n",
       "       [0.09255891, 0.30751327, 0.25110525, 0.12841414, 0.07995182,\n",
       "        0.14045659],\n",
       "       ...,\n",
       "       [0.03206728, 0.202813  , 0.61736065, 0.05595326, 0.03900156,\n",
       "        0.05280424],\n",
       "       [0.03306577, 0.3437387 , 0.45526272, 0.04976016, 0.08133275,\n",
       "        0.03683991],\n",
       "       [0.08143537, 0.10080489, 0.21744022, 0.23378755, 0.20594524,\n",
       "        0.16058673]], dtype=float32)"
      ]
     },
     "execution_count": 15,
     "metadata": {},
     "output_type": "execute_result"
    }
   ],
   "source": [
    "y_pred = model.predict(x_test_indices)\n",
    "y_pred"
   ]
  },
  {
   "cell_type": "code",
   "execution_count": 16,
   "metadata": {},
   "outputs": [
    {
     "data": {
      "text/plain": [
       "array([[0.63325614, 0.03333637, 0.03363117, 0.23281075, 0.03338389,\n",
       "        0.0335817 ],\n",
       "       [0.02783398, 0.36181438, 0.02783396, 0.359606  , 0.02783422,\n",
       "        0.19507746],\n",
       "       [0.04176696, 0.04255955, 0.7900681 , 0.04198601, 0.04169185,\n",
       "        0.04192756],\n",
       "       ...,\n",
       "       [0.03333431, 0.03389261, 0.8326557 , 0.03344868, 0.03333432,\n",
       "        0.03333432],\n",
       "       [0.0333343 , 0.03394266, 0.8323292 , 0.03354846, 0.03337799,\n",
       "        0.03346735],\n",
       "       [0.0333352 , 0.03399595, 0.6322291 , 0.03363342, 0.23328698,\n",
       "        0.03351935]])"
      ]
     },
     "execution_count": 16,
     "metadata": {},
     "output_type": "execute_result"
    }
   ],
   "source": [
    "y_test"
   ]
  },
  {
   "cell_type": "code",
   "execution_count": 17,
   "metadata": {},
   "outputs": [
    {
     "name": "stdout",
     "output_type": "stream",
     "text": [
      "91/91 [==============================] - 1s 6ms/step - loss: 1.5103 - accuracy: 0.5694\n",
      "Test set\n",
      "  Loss: 1.510\n",
      "  Accuracy: 0.569\n"
     ]
    }
   ],
   "source": [
    "# Calculate the loss and accuracy\n",
    "accr = model.evaluate(x_test_indices, y_test)\n",
    "print('Test set\\n  Loss: {:0.3f}\\n  Accuracy: {:0.3f}'.format(accr[0],accr[1]))"
   ]
  },
  {
   "cell_type": "code",
   "execution_count": 18,
   "metadata": {},
   "outputs": [
    {
     "data": {
      "image/png": "[encoded data removed]",
      "text/plain": [
       "<Figure size 432x288 with 1 Axes>"
      ]
     },
     "metadata": {
      "needs_background": "light"
     },
     "output_type": "display_data"
    },
    {
     "data": {
      "image/png": "[encoded data removed]",
      "text/plain": [
       "<Figure size 432x288 with 1 Axes>"
      ]
     },
     "metadata": {
      "needs_background": "light"
     },
     "output_type": "display_data"
    }
   ],
   "source": [
    "# Plot the loss and accuracy\n",
    "def plot_graphs(history, string):\n",
    "    plt.plot(history.history[string])\n",
    "    plt.plot(history.history['val_'+string])\n",
    "    plt.xlabel(\"Epochs\")\n",
    "    plt.ylabel(string)\n",
    "    plt.legend([string, 'val_'+string])\n",
    "    plt.show()\n",
    "  \n",
    "plot_graphs(history, \"accuracy\")\n",
    "plot_graphs(history, \"loss\")"
   ]
  },
  {
   "cell_type": "code",
   "execution_count": 19,
   "metadata": {},
   "outputs": [],
   "source": [
    "# Determine the Pearson correlation coefficient\n",
    "#y_pred = y_pred.flatten()\n",
    "#y_test = y_test.flatten()\n",
    "#def pearson_correlation(y1, y2):\n",
    "    #return pearsonr(y1, y2)[0]\n",
    "#pearson_correlation(y_pred, y_test)"
   ]
  }
 ],
 "metadata": {
  "kernelspec": {
   "display_name": "Python 3",
   "language": "python",
   "name": "python3"
  },
  "language_info": {
   "codemirror_mode": {
    "name": "ipython",
    "version": 3
   },
   "file_extension": ".py",
   "mimetype": "text/x-python",
   "name": "python",
   "nbconvert_exporter": "python",
   "pygments_lexer": "ipython3",
   "version": "3.8.5"
  }
 },
 "nbformat": 4,
 "nbformat_minor": 4
}
