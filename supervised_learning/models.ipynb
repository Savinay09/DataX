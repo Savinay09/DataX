{
 "cells": [
  {
   "cell_type": "code",
   "execution_count": 1,
   "metadata": {},
   "outputs": [
    {
     "name": "stdout",
     "output_type": "stream",
     "text": [
      "INFO:tensorflow:Enabling eager execution\n",
      "INFO:tensorflow:Enabling v2 tensorshape\n",
      "INFO:tensorflow:Enabling resource variables\n",
      "INFO:tensorflow:Enabling tensor equality\n",
      "INFO:tensorflow:Enabling control flow v2\n"
     ]
    }
   ],
   "source": [
    "from keras.datasets import imdb\n",
    "import pandas as pd\n",
    "import numpy as np\n",
    "from sklearn.model_selection import train_test_split\n",
    "import keras\n",
    "from keras import regularizers\n",
    "from keras.layers import SpatialDropout1D, Dense, Dropout, LSTM, Bidirectional, Conv1D, MaxPooling1D, GlobalMaxPooling1D, Flatten, Concatenate\n",
    "from keras.layers.embeddings import Embedding\n",
    "from keras.models import Model\n",
    "from keras.callbacks import EarlyStopping, ModelCheckpoint\n",
    "import string\n",
    "import re\n",
    "from keras.preprocessing.text import Tokenizer\n",
    "from keras.preprocessing.sequence import pad_sequences\n",
    "from matplotlib import pyplot as plt\n",
    "from ast import literal_eval\n",
    "from scipy.stats.stats import pearsonr\n",
    "import nltk\n",
    "# Download glove vectors at https://www.kaggle.com/yutanakamura/glove42b300dtxt"
   ]
  },
  {
   "cell_type": "markdown",
   "metadata": {},
   "source": [
    "# 1. Data Cleaning & Feature Extraction"
   ]
  },
  {
   "cell_type": "code",
   "execution_count": 2,
   "metadata": {
    "scrolled": false
   },
   "outputs": [
    {
     "data": {
      "text/html": [
       "<div>\n",
       "<style scoped>\n",
       "    .dataframe tbody tr th:only-of-type {\n",
       "        vertical-align: middle;\n",
       "    }\n",
       "\n",
       "    .dataframe tbody tr th {\n",
       "        vertical-align: top;\n",
       "    }\n",
       "\n",
       "    .dataframe thead th {\n",
       "        text-align: right;\n",
       "    }\n",
       "</style>\n",
       "<table border=\"1\" class=\"dataframe\">\n",
       "  <thead>\n",
       "    <tr style=\"text-align: right;\">\n",
       "      <th></th>\n",
       "      <th>id</th>\n",
       "      <th>enthusiasm</th>\n",
       "      <th>urgency</th>\n",
       "      <th>surprise</th>\n",
       "      <th>trust</th>\n",
       "      <th>curiosity</th>\n",
       "      <th>exclusivity</th>\n",
       "      <th>dominant topic</th>\n",
       "      <th>sum</th>\n",
       "      <th>subject lines</th>\n",
       "    </tr>\n",
       "  </thead>\n",
       "  <tbody>\n",
       "    <tr>\n",
       "      <th>0</th>\n",
       "      <td>0</td>\n",
       "      <td>0.999359</td>\n",
       "      <td>0.000060</td>\n",
       "      <td>0.000215</td>\n",
       "      <td>0.000223</td>\n",
       "      <td>0.000097</td>\n",
       "      <td>0.000045</td>\n",
       "      <td>enthusiasm</td>\n",
       "      <td>1.0</td>\n",
       "      <td>Event for Freshmen: Discover career opportunit...</td>\n",
       "    </tr>\n",
       "    <tr>\n",
       "      <th>1</th>\n",
       "      <td>1</td>\n",
       "      <td>0.557934</td>\n",
       "      <td>0.000166</td>\n",
       "      <td>0.000486</td>\n",
       "      <td>0.000392</td>\n",
       "      <td>0.426178</td>\n",
       "      <td>0.014844</td>\n",
       "      <td>enthusiasm</td>\n",
       "      <td>1.0</td>\n",
       "      <td>Complete your setup with the Slack desktop app</td>\n",
       "    </tr>\n",
       "    <tr>\n",
       "      <th>2</th>\n",
       "      <td>2</td>\n",
       "      <td>0.980376</td>\n",
       "      <td>0.001827</td>\n",
       "      <td>0.003076</td>\n",
       "      <td>0.008313</td>\n",
       "      <td>0.001398</td>\n",
       "      <td>0.005011</td>\n",
       "      <td>enthusiasm</td>\n",
       "      <td>1.0</td>\n",
       "      <td>Are you ready to play?</td>\n",
       "    </tr>\n",
       "    <tr>\n",
       "      <th>3</th>\n",
       "      <td>3</td>\n",
       "      <td>0.000100</td>\n",
       "      <td>0.000218</td>\n",
       "      <td>0.666365</td>\n",
       "      <td>0.000144</td>\n",
       "      <td>0.333089</td>\n",
       "      <td>0.000083</td>\n",
       "      <td>surprise</td>\n",
       "      <td>1.0</td>\n",
       "      <td>Gadabout - plus, Go behind the scenes of our n...</td>\n",
       "    </tr>\n",
       "    <tr>\n",
       "      <th>4</th>\n",
       "      <td>4</td>\n",
       "      <td>0.000601</td>\n",
       "      <td>0.000160</td>\n",
       "      <td>0.000038</td>\n",
       "      <td>0.000133</td>\n",
       "      <td>0.000259</td>\n",
       "      <td>0.998810</td>\n",
       "      <td>exclusivity</td>\n",
       "      <td>1.0</td>\n",
       "      <td>General Registration is now open for Winter/Sp...</td>\n",
       "    </tr>\n",
       "  </tbody>\n",
       "</table>\n",
       "</div>"
      ],
      "text/plain": [
       "   id  enthusiasm   urgency  surprise     trust  curiosity  exclusivity  \\\n",
       "0   0    0.999359  0.000060  0.000215  0.000223   0.000097     0.000045   \n",
       "1   1    0.557934  0.000166  0.000486  0.000392   0.426178     0.014844   \n",
       "2   2    0.980376  0.001827  0.003076  0.008313   0.001398     0.005011   \n",
       "3   3    0.000100  0.000218  0.666365  0.000144   0.333089     0.000083   \n",
       "4   4    0.000601  0.000160  0.000038  0.000133   0.000259     0.998810   \n",
       "\n",
       "  dominant topic  sum                                      subject lines  \n",
       "0     enthusiasm  1.0  Event for Freshmen: Discover career opportunit...  \n",
       "1     enthusiasm  1.0     Complete your setup with the Slack desktop app  \n",
       "2     enthusiasm  1.0                             Are you ready to play?  \n",
       "3       surprise  1.0  Gadabout - plus, Go behind the scenes of our n...  \n",
       "4    exclusivity  1.0  General Registration is now open for Winter/Sp...  "
      ]
     },
     "execution_count": 2,
     "metadata": {},
     "output_type": "execute_result"
    }
   ],
   "source": [
    "# Import dataset\n",
    "df = pd.read_csv(\"cleaned_dataset_with_labels.csv\")\n",
    "df = df.rename(columns={\"Unnamed: 0\": \"id\"})\n",
    "df.head()"
   ]
  },
  {
   "cell_type": "code",
   "execution_count": 3,
   "metadata": {},
   "outputs": [
    {
     "data": {
      "text/html": [
       "<div>\n",
       "<style scoped>\n",
       "    .dataframe tbody tr th:only-of-type {\n",
       "        vertical-align: middle;\n",
       "    }\n",
       "\n",
       "    .dataframe tbody tr th {\n",
       "        vertical-align: top;\n",
       "    }\n",
       "\n",
       "    .dataframe thead th {\n",
       "        text-align: right;\n",
       "    }\n",
       "</style>\n",
       "<table border=\"1\" class=\"dataframe\">\n",
       "  <thead>\n",
       "    <tr style=\"text-align: right;\">\n",
       "      <th></th>\n",
       "      <th>id</th>\n",
       "      <th>enthusiasm</th>\n",
       "      <th>urgency</th>\n",
       "      <th>surprise</th>\n",
       "      <th>trust</th>\n",
       "      <th>curiosity</th>\n",
       "      <th>exclusivity</th>\n",
       "      <th>dominant topic</th>\n",
       "      <th>sum</th>\n",
       "      <th>subject lines</th>\n",
       "    </tr>\n",
       "  </thead>\n",
       "  <tbody>\n",
       "    <tr>\n",
       "      <th>0</th>\n",
       "      <td>0</td>\n",
       "      <td>0.999359</td>\n",
       "      <td>0.000060</td>\n",
       "      <td>0.000215</td>\n",
       "      <td>0.000223</td>\n",
       "      <td>0.000097</td>\n",
       "      <td>0.000045</td>\n",
       "      <td>enthusiasm</td>\n",
       "      <td>1.0</td>\n",
       "      <td>event for freshmen  discover career opportunit...</td>\n",
       "    </tr>\n",
       "    <tr>\n",
       "      <th>1</th>\n",
       "      <td>1</td>\n",
       "      <td>0.557934</td>\n",
       "      <td>0.000166</td>\n",
       "      <td>0.000486</td>\n",
       "      <td>0.000392</td>\n",
       "      <td>0.426178</td>\n",
       "      <td>0.014844</td>\n",
       "      <td>enthusiasm</td>\n",
       "      <td>1.0</td>\n",
       "      <td>complete your setup with the slack desktop app</td>\n",
       "    </tr>\n",
       "    <tr>\n",
       "      <th>2</th>\n",
       "      <td>2</td>\n",
       "      <td>0.980376</td>\n",
       "      <td>0.001827</td>\n",
       "      <td>0.003076</td>\n",
       "      <td>0.008313</td>\n",
       "      <td>0.001398</td>\n",
       "      <td>0.005011</td>\n",
       "      <td>enthusiasm</td>\n",
       "      <td>1.0</td>\n",
       "      <td>are you ready to play</td>\n",
       "    </tr>\n",
       "    <tr>\n",
       "      <th>3</th>\n",
       "      <td>3</td>\n",
       "      <td>0.000100</td>\n",
       "      <td>0.000218</td>\n",
       "      <td>0.666365</td>\n",
       "      <td>0.000144</td>\n",
       "      <td>0.333089</td>\n",
       "      <td>0.000083</td>\n",
       "      <td>surprise</td>\n",
       "      <td>1.0</td>\n",
       "      <td>gadabout   plus  go behind the scenes of our n...</td>\n",
       "    </tr>\n",
       "    <tr>\n",
       "      <th>4</th>\n",
       "      <td>4</td>\n",
       "      <td>0.000601</td>\n",
       "      <td>0.000160</td>\n",
       "      <td>0.000038</td>\n",
       "      <td>0.000133</td>\n",
       "      <td>0.000259</td>\n",
       "      <td>0.998810</td>\n",
       "      <td>exclusivity</td>\n",
       "      <td>1.0</td>\n",
       "      <td>general registration is now open for winter sp...</td>\n",
       "    </tr>\n",
       "  </tbody>\n",
       "</table>\n",
       "</div>"
      ],
      "text/plain": [
       "   id  enthusiasm   urgency  surprise     trust  curiosity  exclusivity  \\\n",
       "0   0    0.999359  0.000060  0.000215  0.000223   0.000097     0.000045   \n",
       "1   1    0.557934  0.000166  0.000486  0.000392   0.426178     0.014844   \n",
       "2   2    0.980376  0.001827  0.003076  0.008313   0.001398     0.005011   \n",
       "3   3    0.000100  0.000218  0.666365  0.000144   0.333089     0.000083   \n",
       "4   4    0.000601  0.000160  0.000038  0.000133   0.000259     0.998810   \n",
       "\n",
       "  dominant topic  sum                                      subject lines  \n",
       "0     enthusiasm  1.0  event for freshmen  discover career opportunit...  \n",
       "1     enthusiasm  1.0     complete your setup with the slack desktop app  \n",
       "2     enthusiasm  1.0                             are you ready to play   \n",
       "3       surprise  1.0  gadabout   plus  go behind the scenes of our n...  \n",
       "4    exclusivity  1.0  general registration is now open for winter sp...  "
      ]
     },
     "execution_count": 3,
     "metadata": {},
     "output_type": "execute_result"
    }
   ],
   "source": [
    "# Clean the subject lines\n",
    "df['subject lines'] = df['subject lines'].str.lower()\n",
    "df['subject lines'] = df['subject lines'].str.replace('\\r',' ')\n",
    "df['subject lines'] = df['subject lines'].str.replace('[^\\w\\s]',' ')\n",
    "\n",
    "df = df.fillna(0)\n",
    "df.head()"
   ]
  },
  {
   "cell_type": "code",
   "execution_count": 4,
   "metadata": {},
   "outputs": [
    {
     "data": {
      "text/plain": [
       "False"
      ]
     },
     "execution_count": 4,
     "metadata": {},
     "output_type": "execute_result"
    }
   ],
   "source": [
    "# Check for null values\n",
    "df.isnull().values.any()"
   ]
  },
  {
   "cell_type": "code",
   "execution_count": 5,
   "metadata": {},
   "outputs": [],
   "source": [
    "# Create X and Y and split training and test sets\n",
    "x = df['subject lines'].values\n",
    "y = df[['enthusiasm', 'urgency', 'surprise', 'trust', 'curiosity', 'exclusivity']].values\n",
    "x_train, x_test, y_train, y_test = train_test_split(x, y, test_size=0.2, random_state=0)"
   ]
  },
  {
   "cell_type": "markdown",
   "metadata": {},
   "source": [
    "# 2. Tokenization and Creation of GloVe Embeddings"
   ]
  },
  {
   "cell_type": "code",
   "execution_count": 6,
   "metadata": {},
   "outputs": [
    {
     "data": {
      "text/plain": [
       "12272"
      ]
     },
     "execution_count": 6,
     "metadata": {},
     "output_type": "execute_result"
    }
   ],
   "source": [
    "# Tokenize the words\n",
    "tokenizer = Tokenizer(num_words=5000)\n",
    "tokenizer.fit_on_texts(x)\n",
    "words_to_index = tokenizer.word_index\n",
    "len(words_to_index)"
   ]
  },
  {
   "cell_type": "code",
   "execution_count": 7,
   "metadata": {},
   "outputs": [
    {
     "data": {
      "text/plain": [
       "[('to', 1),\n",
       " ('the', 2),\n",
       " ('for', 3),\n",
       " ('your', 4),\n",
       " ('and', 5),\n",
       " ('off', 6),\n",
       " ('you', 7),\n",
       " ('a', 8),\n",
       " ('in', 9),\n",
       " ('on', 10)]"
      ]
     },
     "execution_count": 7,
     "metadata": {},
     "output_type": "execute_result"
    }
   ],
   "source": [
    "# Overview of word_to_index\n",
    "list(words_to_index.items())[:10]"
   ]
  },
  {
   "cell_type": "code",
   "execution_count": 8,
   "metadata": {},
   "outputs": [],
   "source": [
    "# Pad the sequences\n",
    "train_sequences = tokenizer.texts_to_sequences(x_train)\n",
    "x_train_indices = pad_sequences(train_sequences, padding='post', maxlen=25)\n",
    "test_sequences = tokenizer.texts_to_sequences(x_test)\n",
    "x_test_indices = pad_sequences(test_sequences, padding='post', maxlen=25)"
   ]
  },
  {
   "cell_type": "code",
   "execution_count": 9,
   "metadata": {},
   "outputs": [],
   "source": [
    "# Read GloVe vectors\n",
    "def read_glove_vector(glove_vec):\n",
    "    with open(glove_vec, 'r', encoding='UTF-8') as f:\n",
    "        words = set()\n",
    "        word_to_vec_map = {}\n",
    "        for line in f:\n",
    "            w_line = line.split()\n",
    "            curr_word = w_line[0]\n",
    "            word_to_vec_map[curr_word] = np.array(w_line[1:], dtype=np.float64)\n",
    "    return word_to_vec_map\n",
    "\n",
    "word_to_vec_map = read_glove_vector('glove.42b.300d.txt')"
   ]
  },
  {
   "cell_type": "code",
   "execution_count": 10,
   "metadata": {},
   "outputs": [
    {
     "name": "stdout",
     "output_type": "stream",
     "text": [
      "Converted 11458 words (814 misses)\n"
     ]
    }
   ],
   "source": [
    "# Create embedding layer\n",
    "vocab_len = len(words_to_index)\n",
    "emb_dim = 300\n",
    "input_shape=(25, )\n",
    "hits = 0\n",
    "misses = 0\n",
    "miss_list = []\n",
    "\n",
    "emb_matrix = np.zeros((vocab_len, emb_dim))\n",
    "\n",
    "for word, i in words_to_index.items():\n",
    "    embedding_vector = word_to_vec_map.get(word)\n",
    "    if embedding_vector is not None:\n",
    "        emb_matrix[i-1, :] = embedding_vector\n",
    "        hits += 1\n",
    "    else:\n",
    "        miss_list.append(word)\n",
    "        misses += 1\n",
    "\n",
    "print(\"Converted %d words (%d misses)\" % (hits, misses))"
   ]
  },
  {
   "cell_type": "code",
   "execution_count": 11,
   "metadata": {},
   "outputs": [
    {
     "data": {
      "text/plain": [
       "(12272, 300)"
      ]
     },
     "execution_count": 11,
     "metadata": {},
     "output_type": "execute_result"
    }
   ],
   "source": [
    "# Overview of emb_matrix\n",
    "emb_matrix.shape"
   ]
  },
  {
   "cell_type": "code",
   "execution_count": 12,
   "metadata": {},
   "outputs": [
    {
     "data": {
      "text/plain": [
       "['covid', 'savinay', 'airism', 'blaw168', 'doordash']"
      ]
     },
     "execution_count": 12,
     "metadata": {},
     "output_type": "execute_result"
    }
   ],
   "source": [
    "# Overview of the list of words without vectors\n",
    "miss_list[:5]"
   ]
  },
  {
   "cell_type": "markdown",
   "metadata": {},
   "source": [
    "# 3. Convolutional Neural Network (CNN) Model"
   ]
  },
  {
   "cell_type": "code",
   "execution_count": 13,
   "metadata": {},
   "outputs": [
    {
     "name": "stdout",
     "output_type": "stream",
     "text": [
      "Model: \"sequential\"\n",
      "_________________________________________________________________\n",
      "Layer (type)                 Output Shape              Param #   \n",
      "=================================================================\n",
      "embedding (Embedding)        (None, 25, 300)           3681600   \n",
      "_________________________________________________________________\n",
      "conv1d (Conv1D)              (None, 23, 250)           225250    \n",
      "_________________________________________________________________\n",
      "global_max_pooling1d (Global (None, 250)               0         \n",
      "_________________________________________________________________\n",
      "dropout (Dropout)            (None, 250)               0         \n",
      "_________________________________________________________________\n",
      "flatten (Flatten)            (None, 250)               0         \n",
      "_________________________________________________________________\n",
      "dense (Dense)                (None, 75)                18825     \n",
      "_________________________________________________________________\n",
      "dense_1 (Dense)              (None, 6)                 456       \n",
      "=================================================================\n",
      "Total params: 3,926,131\n",
      "Trainable params: 244,531\n",
      "Non-trainable params: 3,681,600\n",
      "_________________________________________________________________\n"
     ]
    }
   ],
   "source": [
    "# CNN model creation\n",
    "emb_layer = Embedding(vocab_len, emb_dim, input_shape=input_shape, weights=[emb_matrix], trainable=False)\n",
    "keras.backend.clear_session()\n",
    "cnn_model = keras.Sequential()\n",
    "cnn_model.add(emb_layer)\n",
    "cnn_model.add(Conv1D(250, 3, padding='valid', activation='relu'))\n",
    "cnn_model.add(GlobalMaxPooling1D())\n",
    "cnn_model.add(Dropout(0.5))\n",
    "cnn_model.add(Flatten())\n",
    "cnn_model.add(Dense(75, activation=\"relu\"))\n",
    "cnn_model.add(Dense(6, activation=\"softmax\", kernel_regularizer=regularizers.l2(0.2)))\n",
    "cnn_model.compile(loss='categorical_crossentropy', optimizer=\"adam\", metrics=['accuracy'])\n",
    "cnn_model.summary()"
   ]
  },
  {
   "cell_type": "code",
   "execution_count": 14,
   "metadata": {},
   "outputs": [
    {
     "data": {
      "text/plain": [
       "array([[  46,    6,  817, ...,    0,    0,    0],\n",
       "       [ 178,   71,    7, ...,    0,    0,    0],\n",
       "       [   4,  310,  198, ...,    0,    0,    0],\n",
       "       ...,\n",
       "       [  69,  120,  163, ...,    0,    0,    0],\n",
       "       [   4,  360, 1816, ...,    0,    0,    0],\n",
       "       [  11, 3055,   32, ...,    0,    0,    0]])"
      ]
     },
     "execution_count": 14,
     "metadata": {},
     "output_type": "execute_result"
    }
   ],
   "source": [
    "# Overview of x-train\n",
    "x_train_indices"
   ]
  },
  {
   "cell_type": "code",
   "execution_count": 15,
   "metadata": {},
   "outputs": [
    {
     "data": {
      "text/plain": [
       "array([[9.98167705e-01, 3.13956713e-04, 6.13841779e-05, 4.30674992e-05,\n",
       "        5.58753330e-05, 1.35801157e-03],\n",
       "       [1.32735022e-04, 2.04464888e-04, 2.63601012e-05, 1.27147395e-04,\n",
       "        8.91534669e-01, 1.07974623e-01],\n",
       "       [9.99114601e-01, 1.25403482e-04, 2.46416220e-04, 2.41706354e-04,\n",
       "        2.48847768e-04, 2.30254323e-05],\n",
       "       ...,\n",
       "       [6.63114541e-01, 9.89245280e-06, 3.17986032e-05, 4.77318325e-05,\n",
       "        3.36785706e-01, 1.03305429e-05],\n",
       "       [7.62451830e-05, 3.86041053e-06, 9.99476285e-01, 3.69914867e-05,\n",
       "        4.02394500e-04, 4.22363342e-06],\n",
       "       [3.60871634e-03, 2.64362168e-03, 2.52466904e-03, 9.80666453e-01,\n",
       "        4.66268269e-03, 5.89385677e-03]])"
      ]
     },
     "execution_count": 15,
     "metadata": {},
     "output_type": "execute_result"
    }
   ],
   "source": [
    "# Overview of y-train\n",
    "y_train"
   ]
  },
  {
   "cell_type": "code",
   "execution_count": 16,
   "metadata": {},
   "outputs": [],
   "source": [
    "# Fit the CNN model and stop at minimum validation loss\n",
    "es = EarlyStopping(monitor='val_loss', mode='min', verbose=1, patience=100)\n",
    "history_1 = cnn_model.fit(x_train_indices, y_train, validation_split=0.1, batch_size=64, epochs=50, shuffle=False, verbose=0, callbacks=[es])"
   ]
  },
  {
   "cell_type": "code",
   "execution_count": 17,
   "metadata": {},
   "outputs": [
    {
     "data": {
      "text/plain": [
       "array([[0.11949929, 0.13621001, 0.21101879, 0.01897612, 0.42769247,\n",
       "        0.08660328],\n",
       "       [0.3896464 , 0.12126322, 0.07780953, 0.21553716, 0.17366423,\n",
       "        0.02207939],\n",
       "       [0.12578169, 0.11243403, 0.16018543, 0.08123823, 0.24929371,\n",
       "        0.27106687],\n",
       "       ...,\n",
       "       [0.03409952, 0.06724105, 0.01920075, 0.05544174, 0.76206374,\n",
       "        0.06195317],\n",
       "       [0.16143543, 0.04362067, 0.09539112, 0.0626282 , 0.0785981 ,\n",
       "        0.5583265 ],\n",
       "       [0.02102008, 0.2330885 , 0.08759819, 0.01515485, 0.00615223,\n",
       "        0.63698614]], dtype=float32)"
      ]
     },
     "execution_count": 17,
     "metadata": {},
     "output_type": "execute_result"
    }
   ],
   "source": [
    "# Overview of predictions\n",
    "# Sample of emotions \n",
    "y_pred = cnn_model.predict(x_test_indices)\n",
    "y_pred"
   ]
  },
  {
   "cell_type": "code",
   "execution_count": 18,
   "metadata": {},
   "outputs": [
    {
     "data": {
      "text/plain": [
       "array([[8.99590441e-05, 1.86368191e-04, 7.86958011e-05, 6.08857234e-05,\n",
       "        9.99185812e-01, 3.98279281e-04],\n",
       "       [9.98611842e-01, 3.11038625e-04, 2.69014258e-04, 1.52454459e-04,\n",
       "        2.96644024e-04, 3.59007065e-04],\n",
       "       [9.98887636e-01, 3.15152687e-05, 3.59425853e-05, 3.46110507e-05,\n",
       "        3.71363598e-05, 9.73159074e-04],\n",
       "       ...,\n",
       "       [5.01082012e-04, 4.45748935e-04, 5.07992339e-04, 4.89282055e-04,\n",
       "        9.97568347e-01, 4.87547795e-04],\n",
       "       [3.47483350e-05, 3.08905834e-05, 6.88526367e-04, 3.39252255e-05,\n",
       "        9.99178105e-01, 3.38042715e-05],\n",
       "       [6.60543694e-04, 9.91801645e-01, 6.27379198e-04, 1.37284411e-04,\n",
       "        1.30651348e-04, 6.64249610e-03]])"
      ]
     },
     "execution_count": 18,
     "metadata": {},
     "output_type": "execute_result"
    }
   ],
   "source": [
    "# Overview of y-test to compare with y-pred\n",
    "y_test"
   ]
  },
  {
   "cell_type": "code",
   "execution_count": 19,
   "metadata": {},
   "outputs": [
    {
     "name": "stdout",
     "output_type": "stream",
     "text": [
      "103/103 [==============================] - 0s 2ms/step - loss: 1.2315 - accuracy: 0.5780\n",
      "Test set\n",
      "  Loss: 1.231\n",
      "  Accuracy: 0.578\n"
     ]
    }
   ],
   "source": [
    "# Calculate the loss and accuracy of CNN model\n",
    "cnn_accr = cnn_model.evaluate(x_test_indices, y_test)\n",
    "print('Test set\\n  Loss: {:0.3f}\\n  Accuracy: {:0.3f}'.format(cnn_accr[0], cnn_accr[1]))"
   ]
  },
  {
   "cell_type": "code",
   "execution_count": 20,
   "metadata": {},
   "outputs": [
    {
     "data": {
      "image/png": "[encoded data removed]",
      "text/plain": [
       "<Figure size 432x288 with 1 Axes>"
      ]
     },
     "metadata": {
      "needs_background": "light"
     },
     "output_type": "display_data"
    },
    {
     "data": {
      "image/png": "[encoded data removed]",
      "text/plain": [
       "<Figure size 432x288 with 1 Axes>"
      ]
     },
     "metadata": {
      "needs_background": "light"
     },
     "output_type": "display_data"
    }
   ],
   "source": [
    "# Plot the loss and accuracy for CNN model\n",
    "def plot_graphs(history, string):\n",
    "    plt.plot(history.history[string])\n",
    "    plt.plot(history.history['val_'+string])\n",
    "    plt.xlabel(\"Epochs\")\n",
    "    plt.ylabel(string)\n",
    "    plt.legend([string, 'val_'+string])\n",
    "    plt.show()\n",
    "  \n",
    "plot_graphs(history_1, \"accuracy\")\n",
    "plot_graphs(history_1, \"loss\")"
   ]
  },
  {
   "cell_type": "code",
   "execution_count": 21,
   "metadata": {},
   "outputs": [
    {
     "data": {
      "text/plain": [
       "{'enthusiasm': 0.570726205545858,\n",
       " 'urgency': 0.7113604009657405,\n",
       " 'surprise': 0.620616575545501,\n",
       " 'trust': 0.5662245090702694,\n",
       " 'curiosity': 0.630200782029893,\n",
       " 'exclusivity': 0.6195823842725079}"
      ]
     },
     "execution_count": 21,
     "metadata": {},
     "output_type": "execute_result"
    }
   ],
   "source": [
    "# Determine the Pearson correlation coefficient for CNN model\n",
    "def pearson_correlation(y_pred, y_test):\n",
    "    pred_list = []\n",
    "    test_list = []\n",
    "    results = []\n",
    "    for i in range(6):\n",
    "        pred_list.append([item[i] for item in y_pred])\n",
    "        test_list.append([item[i] for item in y_test])\n",
    "    for i in range(6):\n",
    "        results.append(pearsonr(pred_list[i], test_list[i])[0])\n",
    "    return results\n",
    "cnn_coeffs = dict(zip(['enthusiasm', 'urgency', 'surprise', 'trust', 'curiosity', 'exclusivity'], pearson_correlation(y_pred, y_test)))\n",
    "cnn_coeffs"
   ]
  },
  {
   "cell_type": "markdown",
   "metadata": {},
   "source": [
    "# 4. Long Short-Term Memory (LSTM) Model"
   ]
  },
  {
   "cell_type": "code",
   "execution_count": 22,
   "metadata": {},
   "outputs": [
    {
     "name": "stdout",
     "output_type": "stream",
     "text": [
      "Model: \"sequential\"\n",
      "_________________________________________________________________\n",
      "Layer (type)                 Output Shape              Param #   \n",
      "=================================================================\n",
      "embedding (Embedding)        (None, 25, 300)           3681600   \n",
      "_________________________________________________________________\n",
      "spatial_dropout1d (SpatialDr (None, 25, 300)           0         \n",
      "_________________________________________________________________\n",
      "bidirectional (Bidirectional (None, 300)               541200    \n",
      "_________________________________________________________________\n",
      "dropout (Dropout)            (None, 300)               0         \n",
      "_________________________________________________________________\n",
      "dense (Dense)                (None, 6)                 1806      \n",
      "=================================================================\n",
      "Total params: 4,224,606\n",
      "Trainable params: 543,006\n",
      "Non-trainable params: 3,681,600\n",
      "_________________________________________________________________\n"
     ]
    }
   ],
   "source": [
    "# LSTM model creation\n",
    "keras.backend.clear_session()\n",
    "lstm_model = keras.Sequential()\n",
    "lstm_model.add(emb_layer)\n",
    "lstm_model.add(SpatialDropout1D(0.2))\n",
    "lstm_model.add(Bidirectional(LSTM(150, dropout=0.2, recurrent_dropout=0.2, return_sequences=False)))\n",
    "lstm_model.add(Dropout(0.2))\n",
    "lstm_model.add(Dense(6, activation=\"softmax\", kernel_regularizer=regularizers.l2(0.1)))\n",
    "lstm_model.compile(loss='categorical_crossentropy', optimizer=\"adam\", metrics=['accuracy'])\n",
    "lstm_model.summary()"
   ]
  },
  {
   "cell_type": "code",
   "execution_count": 23,
   "metadata": {},
   "outputs": [],
   "source": [
    "# Fit the LSTM model\n",
    "history_2 = lstm_model.fit(x_train_indices, y_train, validation_split=0.1, batch_size=64, epochs=25, shuffle=False, verbose=0, callbacks=[es])"
   ]
  },
  {
   "cell_type": "code",
   "execution_count": 24,
   "metadata": {},
   "outputs": [
    {
     "name": "stdout",
     "output_type": "stream",
     "text": [
      "103/103 [==============================] - 1s 11ms/step - loss: 1.4475 - accuracy: 0.5111\n",
      "Test set\n",
      "  Loss: 1.448\n",
      "  Accuracy: 0.511\n"
     ]
    }
   ],
   "source": [
    "# Calculate the loss and accuracy of LSTM model\n",
    "lstm_accr = lstm_model.evaluate(x_test_indices, y_test)\n",
    "print('Test set\\n  Loss: {:0.3f}\\n  Accuracy: {:0.3f}'.format(lstm_accr[0], lstm_accr[1]))"
   ]
  },
  {
   "cell_type": "code",
   "execution_count": 25,
   "metadata": {},
   "outputs": [
    {
     "data": {
      "image/png": "[encoded data removed]",
      "text/plain": [
       "<Figure size 432x288 with 1 Axes>"
      ]
     },
     "metadata": {
      "needs_background": "light"
     },
     "output_type": "display_data"
    },
    {
     "data": {
      "image/png": "[encoded data removed]",
      "text/plain": [
       "<Figure size 432x288 with 1 Axes>"
      ]
     },
     "metadata": {
      "needs_background": "light"
     },
     "output_type": "display_data"
    }
   ],
   "source": [
    "# Plot the loss and accuracy for LSTM model\n",
    "plot_graphs(history_2, \"accuracy\")\n",
    "plot_graphs(history_2, \"loss\")"
   ]
  },
  {
   "cell_type": "code",
   "execution_count": 26,
   "metadata": {},
   "outputs": [
    {
     "data": {
      "text/plain": [
       "{'enthusiasm': 0.49158936333945125,\n",
       " 'urgency': 0.626726955345305,\n",
       " 'surprise': 0.5099554244108004,\n",
       " 'trust': 0.4561257465259355,\n",
       " 'curiosity': 0.5589214489512166,\n",
       " 'exclusivity': 0.5010303442037753}"
      ]
     },
     "execution_count": 26,
     "metadata": {},
     "output_type": "execute_result"
    }
   ],
   "source": [
    "# Determine the Pearson correlation coefficient for LSTM model\n",
    "y_pred_1 = lstm_model.predict(x_test_indices)\n",
    "lstm_coeffs = dict(zip(['enthusiasm', 'urgency', 'surprise', 'trust', 'curiosity', 'exclusivity'], pearson_correlation(y_pred_1, y_test)))\n",
    "lstm_coeffs"
   ]
  },
  {
   "cell_type": "code",
   "execution_count": 27,
   "metadata": {},
   "outputs": [
    {
     "data": {
      "text/plain": [
       "array([0.69480777, 0.01675344, 0.02219622, 0.06169255, 0.03258023,\n",
       "       0.17196982], dtype=float32)"
      ]
     },
     "execution_count": 27,
     "metadata": {},
     "output_type": "execute_result"
    }
   ],
   "source": [
    "# Create helper function for prediction of single subject line\n",
    "def emotion_predict(text):\n",
    "    text = text.lower()\n",
    "    text = re.sub(r\"[^\\w\\s]\",\"\", text)\n",
    "    text_sequence = tokenizer.texts_to_sequences([text])\n",
    "    text_indices = pad_sequences(text_sequence, padding='post', maxlen=25)\n",
    "    return cnn_model.predict(text_indices)[0]\n",
    "emotion_predict(\"How do you like our new product\")"
   ]
  }
 ],
 "metadata": {
  "kernelspec": {
   "display_name": "Python 3",
   "language": "python",
   "name": "python3"
  },
  "language_info": {
   "codemirror_mode": {
    "name": "ipython",
    "version": 3
   },
   "file_extension": ".py",
   "mimetype": "text/x-python",
   "name": "python",
   "nbconvert_exporter": "python",
   "pygments_lexer": "ipython3",
   "version": "3.8.5"
  }
 },
 "nbformat": 4,
 "nbformat_minor": 4
}
